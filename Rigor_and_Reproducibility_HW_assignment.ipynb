{
  "nbformat": 4,
  "nbformat_minor": 0,
  "metadata": {
    "colab": {
      "provenance": []
    },
    "kernelspec": {
      "name": "python3",
      "display_name": "Python 3"
    },
    "language_info": {
      "name": "python"
    }
  },
  "cells": [
    {
      "cell_type": "code",
      "execution_count": null,
      "metadata": {
        "id": "65tJDHk3Usk0"
      },
      "outputs": [],
      "source": []
    },
    {
      "cell_type": "markdown",
      "source": [
        "Monday October 30th\n"
      ],
      "metadata": {
        "id": "DaH4f6I-U2FV"
      }
    },
    {
      "cell_type": "code",
      "source": [
        "2*7\n"
      ],
      "metadata": {
        "colab": {
          "base_uri": "https://localhost:8080/"
        },
        "id": "a5IEpbFlU9UJ",
        "outputId": "afe8456f-33cf-40e1-a235-62789111e45b"
      },
      "execution_count": 2,
      "outputs": [
        {
          "output_type": "execute_result",
          "data": {
            "text/plain": [
              "14"
            ]
          },
          "metadata": {},
          "execution_count": 2
        }
      ]
    },
    {
      "cell_type": "markdown",
      "source": [
        "Using repositories makes it easier for several researchers to work on a project at the same time, and when this code is public on a site like GitHub, or shared on NIH's sharing.gov site, other researchers can utilize your previous data to contribute to new projects. Sites like GitHub or Google Sheets also allow you to track changes, which makes it easier to see previous time points and allows you view the trajectory of the project over time and determine why a change was made in the past. Publishing your data on a site like GitHub allows for others to verify or validiate your research findings, or build on them. These concepts, along with others - like creating clean tidy data, using well-maintained libraries, creating deliberate names for variables and functions, etc. - all contribute positively to computational reproducibility.\n"
      ],
      "metadata": {
        "id": "aLTB146AZgfo"
      }
    },
    {
      "cell_type": "code",
      "source": [],
      "metadata": {
        "id": "JFrSrMnmaQ6t"
      },
      "execution_count": null,
      "outputs": []
    }
  ]
}